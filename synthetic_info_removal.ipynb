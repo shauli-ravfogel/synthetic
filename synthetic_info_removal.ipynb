{
 "cells": [
  {
   "cell_type": "code",
   "execution_count": 20,
   "id": "c54fec18",
   "metadata": {},
   "outputs": [],
   "source": [
    "import numpy as np\n",
    "import sklearn\n",
    "import torch.optim\n",
    "\n",
    "from rlace import solve_adv_game\n",
    "\n",
    "def create_synthetic_binary_classification_dataset(n_samples, dimensionality, noise=1.0):\n",
    "\n",
    "    # sample binary labels\n",
    "    y = np.random.randint(2, size=n_samples)\n",
    "    # create X based on y + some noise\n",
    "    X = []\n",
    "    for i,yval in enumerate(y):\n",
    "        X.append(np.random.normal(loc=yval, scale=noise, size=dimensionality))\n",
    "    X = np.array(X)\n",
    "    return X, y\n",
    "\n",
    "def apply_random_reversible_nonlinear_transformation(X):\n",
    "    np.random.seed(0)\n",
    "    W1 = np.random.normal(loc=0, scale=1, size=(dim, dim))\n",
    "    W2 = np.random.normal(loc=0, scale=1, size=(dim, dim))\n",
    "    H = (X@W1)**3\n",
    "    out = X@W2\n",
    "    return out\n",
    "\n",
    "def train_linear_classifier_and_report_accuracy(X,y):\n",
    "    # train a linear classifier\n",
    "    clf = sklearn.linear_model.LogisticRegression(max_iter=5000)\n",
    "    clf.fit(X,y)\n",
    "    # report accuracy\n",
    "    predicted_y = clf.predict(X)\n",
    "    accuracy = np.mean(predicted_y == y)\n",
    "    return accuracy"
   ]
  },
  {
   "cell_type": "markdown",
   "id": "40245fe1",
   "metadata": {},
   "source": [
    "## generate synthetic dataset"
   ]
  },
  {
   "cell_type": "code",
   "execution_count": 21,
   "id": "a7dec5b0",
   "metadata": {},
   "outputs": [],
   "source": [
    "dim = 16\n",
    "X,y = create_synthetic_binary_classification_dataset(n_samples=10000, dimensionality=dim)\n",
    "X = apply_random_reversible_nonlinear_transformation(X)"
   ]
  },
  {
   "cell_type": "markdown",
   "id": "05a0a255",
   "metadata": {},
   "source": [
    "## train a linear classifier"
   ]
  },
  {
   "cell_type": "code",
   "execution_count": 22,
   "id": "e34255de",
   "metadata": {},
   "outputs": [
    {
     "name": "stdout",
     "output_type": "stream",
     "text": [
      "Accuracy of linear classifier on the original dataset: 0.9763\n"
     ]
    }
   ],
   "source": [
    "acc = train_linear_classifier_and_report_accuracy(X,y)\n",
    "print(\"Accuracy of linear classifier on the original dataset:\",acc)"
   ]
  },
  {
   "cell_type": "markdown",
   "id": "8332a398",
   "metadata": {},
   "source": [
    "### Learn a projection matrix that reduces the data's rank by 1."
   ]
  },
  {
   "cell_type": "code",
   "execution_count": 24,
   "id": "f9aa2a55",
   "metadata": {},
   "outputs": [
    {
     "name": "stderr",
     "output_type": "stream",
     "text": [
      "5000/75000. Acc post-projection: 50.050%; best so-far: 50.050%; Maj: 50.040%; Ga\n"
     ]
    }
   ],
   "source": [
    "\n",
    "# run rlace\n",
    "optimizer_class = torch.optim.SGD\n",
    "optimizer_params_P = {\"lr\": 0.0075, \"weight_decay\": 1e-4}\n",
    "optimizer_params_predictor = {\"lr\": 0.0075, \"weight_decay\": 1e-4}\n",
    "epsilon = 0.001\n",
    "batch_size = 64\n",
    "output = solve_adv_game(X,y, X,y, rank=1, device=\"cpu\", out_iters=75000,\n",
    "                        optimizer_class=optimizer_class, optimizer_params_P=optimizer_params_P,\n",
    "                        optimizer_params_predictor=optimizer_params_predictor, epsilon=epsilon, batch_size=batch_size)\n",
    "\n",
    "projection_matrix = output[\"P\"]"
   ]
  },
  {
   "cell_type": "markdown",
   "id": "af67a2b6",
   "metadata": {},
   "source": [
    "## project & train a classifier on the projected data"
   ]
  },
  {
   "cell_type": "code",
   "execution_count": 25,
   "id": "619cac6e",
   "metadata": {},
   "outputs": [
    {
     "name": "stdout",
     "output_type": "stream",
     "text": [
      "Accuracy of linear classifier on projected dataset: 0.5134\n",
      "Majority accuracy: 0.5004\n"
     ]
    }
   ],
   "source": [
    "# project the data\n",
    "X_projected = X@projection_matrix\n",
    "\n",
    "# train a linear classifier on the projected data\n",
    "acc = train_linear_classifier_and_report_accuracy(X_projected,y)\n",
    "print(\"Accuracy of linear classifier on projected dataset:\",acc)\n",
    "print(\"Majority accuracy:\", max(np.mean(y), 1-np.mean(y)))"
   ]
  },
  {
   "cell_type": "code",
   "execution_count": null,
   "id": "8ac2b682",
   "metadata": {},
   "outputs": [],
   "source": []
  }
 ],
 "metadata": {
  "kernelspec": {
   "display_name": "Python 3 (ipykernel)",
   "language": "python",
   "name": "python3"
  },
  "language_info": {
   "codemirror_mode": {
    "name": "ipython",
    "version": 3
   },
   "file_extension": ".py",
   "mimetype": "text/x-python",
   "name": "python",
   "nbconvert_exporter": "python",
   "pygments_lexer": "ipython3",
   "version": "3.8.13"
  }
 },
 "nbformat": 4,
 "nbformat_minor": 5
}
