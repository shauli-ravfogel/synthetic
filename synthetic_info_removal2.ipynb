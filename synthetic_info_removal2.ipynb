{
 "cells": [
  {
   "cell_type": "code",
   "execution_count": 44,
   "id": "c54fec18",
   "metadata": {},
   "outputs": [],
   "source": [
    "import numpy as np\n",
    "import sklearn\n",
    "import torch.optim\n",
    "from sklearn.neural_network import MLPClassifier\n",
    "from rlace import solve_adv_game, init_classifier\n",
    "\n",
    "def create_synthetic_binary_classification_dataset(n_samples, dimensionality, u, noise=1.0):\n",
    "\n",
    "    X = np.random.randn(n_samples, dimensionality)\n",
    "    y = (X@u > 0).astype(\"int\")\n",
    "    \n",
    "    return X, y\n",
    "\n",
    "\n",
    "def train_linear_classifier_and_report_accuracy(X_train, y_train, X_dev, y_dev):\n",
    "    # train a linear classifier\n",
    "    clf = init_classifier() #sklearn.linear_model.LogisticRegression(max_iter=5000)\n",
    "    clf.fit(X_train,y_train)\n",
    "    # report accuracy\n",
    "    predicted_y = clf.predict(X_dev)\n",
    "    accuracy = np.mean(predicted_y == y_dev)\n",
    "    return accuracy"
   ]
  },
  {
   "cell_type": "markdown",
   "id": "40245fe1",
   "metadata": {},
   "source": [
    "## generate synthetic dataset"
   ]
  },
  {
   "cell_type": "code",
   "execution_count": 45,
   "id": "a7dec5b0",
   "metadata": {},
   "outputs": [],
   "source": [
    "dim = 16\n",
    "n=10000\n",
    "train_size = int(n * 0.8)\n",
    "u = np.random.randn(dim) \n",
    "X,y = create_synthetic_binary_classification_dataset(n_samples=n, dimensionality=dim, u=u)\n",
    "\n",
    "X_train, y_train, X_dev, y_dev = X[:train_size], y[:train_size], X[train_size:], y[train_size:]"
   ]
  },
  {
   "cell_type": "code",
   "execution_count": 46,
   "id": "24a87553",
   "metadata": {},
   "outputs": [
    {
     "data": {
      "text/plain": [
       "0.5033"
      ]
     },
     "execution_count": 46,
     "metadata": {},
     "output_type": "execute_result"
    }
   ],
   "source": [
    "y.mean()"
   ]
  },
  {
   "cell_type": "markdown",
   "id": "05a0a255",
   "metadata": {},
   "source": [
    "## train a linear classifier"
   ]
  },
  {
   "cell_type": "code",
   "execution_count": 48,
   "id": "e34255de",
   "metadata": {},
   "outputs": [
    {
     "name": "stdout",
     "output_type": "stream",
     "text": [
      "Accuracy of linear classifier on the original dataset: 0.997\n"
     ]
    }
   ],
   "source": [
    "acc = train_linear_classifier_and_report_accuracy(X_train,y_train, X_dev, y_dev)\n",
    "print(\"Accuracy of linear classifier on the original dataset:\",acc)"
   ]
  },
  {
   "cell_type": "markdown",
   "id": "8332a398",
   "metadata": {},
   "source": [
    "### Learn a projection matrix that reduces the data's rank by 1."
   ]
  },
  {
   "cell_type": "code",
   "execution_count": 54,
   "id": "f9aa2a55",
   "metadata": {},
   "outputs": [
    {
     "name": "stderr",
     "output_type": "stream",
     "text": [
      "13000/75000. Acc post-projection: 50.360%; best so-far: 50.360%; Maj: 50.330%; G\n"
     ]
    }
   ],
   "source": [
    "\n",
    "# run rlace\n",
    "optimizer_class = torch.optim.SGD\n",
    "optimizer_params_P = {\"lr\": 0.0002, \"momentum\": 0.8}\n",
    "optimizer_params_predictor = {\"lr\": 0.001, \"weight_decay\": 1e-5}\n",
    "epsilon = 0.001\n",
    "batch_size = 64\n",
    "output = solve_adv_game(X,y, X,y, rank=1, device=\"cpu\", out_iters=75000,\n",
    "                        optimizer_class=optimizer_class, optimizer_params_P=optimizer_params_P,\n",
    "                        optimizer_params_predictor=optimizer_params_predictor, epsilon=epsilon, batch_size=batch_size)\n",
    "\n",
    "projection_matrix = output[\"P\"]"
   ]
  },
  {
   "cell_type": "code",
   "execution_count": 49,
   "id": "4546ceae",
   "metadata": {},
   "outputs": [],
   "source": [
    "#u_unit = u / np.linalg.norm(u)\n",
    "#projection_matrix = np.eye(dim) - np.outer(u_unit, u_unit)"
   ]
  },
  {
   "cell_type": "markdown",
   "id": "af67a2b6",
   "metadata": {},
   "source": [
    "## project & train a classifier on the projected data"
   ]
  },
  {
   "cell_type": "code",
   "execution_count": 55,
   "id": "619cac6e",
   "metadata": {},
   "outputs": [
    {
     "name": "stdout",
     "output_type": "stream",
     "text": [
      "Accuracy of linear classifier on projected dataset: 0.494\n",
      "Majority accuracy: 0.5033\n"
     ]
    }
   ],
   "source": [
    "# project the data\n",
    "X_train_projected = X_train@projection_matrix\n",
    "X_dev_projected = X_dev@projection_matrix\n",
    "\n",
    "# train a linear classifier on the projected data\n",
    "acc = train_linear_classifier_and_report_accuracy(X_train_projected,y_train, X_dev_projected, y_dev)\n",
    "print(\"Accuracy of linear classifier on projected dataset:\",acc)\n",
    "print(\"Majority accuracy:\", max(np.mean(y), 1-np.mean(y)))"
   ]
  },
  {
   "cell_type": "markdown",
   "id": "20181126",
   "metadata": {},
   "source": [
    "## nonlinear classification"
   ]
  },
  {
   "cell_type": "code",
   "execution_count": 57,
   "id": "632886f3",
   "metadata": {},
   "outputs": [
    {
     "name": "stderr",
     "output_type": "stream",
     "text": [
      "/home/shauli/miniconda3/envs/py3/lib/python3.8/site-packages/sklearn/neural_network/_multilayer_perceptron.py:692: ConvergenceWarning: Stochastic Optimizer: Maximum iterations (200) reached and the optimization hasn't converged yet.\n",
      "  warnings.warn(\n"
     ]
    },
    {
     "data": {
      "text/plain": [
       "(0.71775, 0.512)"
      ]
     },
     "execution_count": 57,
     "metadata": {},
     "output_type": "execute_result"
    }
   ],
   "source": [
    "mlp = MLPClassifier()\n",
    "mlp.fit(X_train_projected, y_train)\n",
    "mlp.score(X_train_projected, y_train), mlp.score(X_dev_projected, y_dev)"
   ]
  },
  {
   "cell_type": "code",
   "execution_count": null,
   "id": "b1996274",
   "metadata": {},
   "outputs": [],
   "source": []
  }
 ],
 "metadata": {
  "kernelspec": {
   "display_name": "Python 3 (ipykernel)",
   "language": "python",
   "name": "python3"
  },
  "language_info": {
   "codemirror_mode": {
    "name": "ipython",
    "version": 3
   },
   "file_extension": ".py",
   "mimetype": "text/x-python",
   "name": "python",
   "nbconvert_exporter": "python",
   "pygments_lexer": "ipython3",
   "version": "3.8.13"
  }
 },
 "nbformat": 4,
 "nbformat_minor": 5
}
