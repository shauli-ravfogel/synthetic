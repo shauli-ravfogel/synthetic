{
 "cells": [
  {
   "cell_type": "code",
   "execution_count": 12,
   "id": "c54fec18",
   "metadata": {},
   "outputs": [],
   "source": [
    "import numpy as np\n",
    "import sklearn\n",
    "import torch.optim\n",
    "from sklearn.neural_network import MLPClassifier\n",
    "from rlace import solve_adv_game, init_classifier\n",
    "\n",
    "def create_synthetic_binary_classification_dataset(n_samples, dimensionality, noise=1.0):\n",
    "\n",
    "    X = np.random.randn(n_samples, dimensionality)\n",
    "    u = np.random.randn(dimensionality)\n",
    "    y = (X@u > 0).astype(\"int\")\n",
    "    \n",
    "    return X, y"
   ]
  },
  {
   "cell_type": "markdown",
   "id": "40245fe1",
   "metadata": {},
   "source": [
    "## generate synthetic dataset"
   ]
  },
  {
   "cell_type": "code",
   "execution_count": 13,
   "id": "a7dec5b0",
   "metadata": {},
   "outputs": [],
   "source": [
    "dim = 16\n",
    "X,y = create_synthetic_binary_classification_dataset(n_samples=5000, dimensionality=dim)\n"
   ]
  },
  {
   "cell_type": "code",
   "execution_count": 14,
   "id": "24a87553",
   "metadata": {},
   "outputs": [
    {
     "data": {
      "text/plain": [
       "0.488"
      ]
     },
     "execution_count": 14,
     "metadata": {},
     "output_type": "execute_result"
    }
   ],
   "source": [
    "y.mean()"
   ]
  },
  {
   "cell_type": "markdown",
   "id": "05a0a255",
   "metadata": {},
   "source": [
    "## train a linear classifier"
   ]
  },
  {
   "cell_type": "code",
   "execution_count": 15,
   "id": "e34255de",
   "metadata": {},
   "outputs": [
    {
     "name": "stdout",
     "output_type": "stream",
     "text": [
      "Accuracy of linear classifier on the original dataset: 0.997\n"
     ]
    }
   ],
   "source": [
    "acc = train_linear_classifier_and_report_accuracy(X,y)\n",
    "print(\"Accuracy of linear classifier on the original dataset:\",acc)"
   ]
  },
  {
   "cell_type": "markdown",
   "id": "8332a398",
   "metadata": {},
   "source": [
    "### Learn a projection matrix that reduces the data's rank by 1."
   ]
  },
  {
   "cell_type": "code",
   "execution_count": 16,
   "id": "f9aa2a55",
   "metadata": {},
   "outputs": [
    {
     "name": "stderr",
     "output_type": "stream",
     "text": [
      "15000/75000. Acc post-projection: 51.220%; best so-far: 51.220%; Maj: 51.200%; G\n"
     ]
    }
   ],
   "source": [
    "\n",
    "# run rlace\n",
    "optimizer_class = torch.optim.SGD\n",
    "optimizer_params_P = {\"lr\": 0.0002, \"momentum\": 0.8}\n",
    "optimizer_params_predictor = {\"lr\": 0.001, \"weight_decay\": 1e-5}\n",
    "epsilon = 0.001\n",
    "batch_size = 64\n",
    "output = solve_adv_game(X,y, X,y, rank=1, device=\"cpu\", out_iters=75000,\n",
    "                        optimizer_class=optimizer_class, optimizer_params_P=optimizer_params_P,\n",
    "                        optimizer_params_predictor=optimizer_params_predictor, epsilon=epsilon, batch_size=batch_size)\n",
    "\n",
    "projection_matrix = output[\"P\"]"
   ]
  },
  {
   "cell_type": "markdown",
   "id": "af67a2b6",
   "metadata": {},
   "source": [
    "## project & train a classifier on the projected data"
   ]
  },
  {
   "cell_type": "code",
   "execution_count": 17,
   "id": "619cac6e",
   "metadata": {},
   "outputs": [
    {
     "name": "stdout",
     "output_type": "stream",
     "text": [
      "Accuracy of linear classifier on projected dataset: 0.5122\n",
      "Majority accuracy: 0.512\n"
     ]
    }
   ],
   "source": [
    "# project the data\n",
    "X_projected = X@projection_matrix\n",
    "\n",
    "# train a linear classifier on the projected data\n",
    "acc = train_linear_classifier_and_report_accuracy(X_projected,y)\n",
    "print(\"Accuracy of linear classifier on projected dataset:\",acc)\n",
    "print(\"Majority accuracy:\", max(np.mean(y), 1-np.mean(y)))"
   ]
  },
  {
   "cell_type": "markdown",
   "id": "fe3c865d",
   "metadata": {},
   "source": [
    "## nonlinear classification"
   ]
  },
  {
   "cell_type": "code",
   "execution_count": 21,
   "id": "632886f3",
   "metadata": {},
   "outputs": [
    {
     "name": "stderr",
     "output_type": "stream",
     "text": [
      "/home/shauli/miniconda3/envs/py3/lib/python3.8/site-packages/sklearn/neural_network/_multilayer_perceptron.py:692: ConvergenceWarning: Stochastic Optimizer: Maximum iterations (200) reached and the optimization hasn't converged yet.\n",
      "  warnings.warn(\n"
     ]
    },
    {
     "data": {
      "text/plain": [
       "0.7452"
      ]
     },
     "execution_count": 21,
     "metadata": {},
     "output_type": "execute_result"
    }
   ],
   "source": [
    "mlp = MLPClassifier()\n",
    "mlp.fit(X_projected, y)\n",
    "mlp.score(X_projected, y)"
   ]
  }
 ],
 "metadata": {
  "kernelspec": {
   "display_name": "Python 3 (ipykernel)",
   "language": "python",
   "name": "python3"
  },
  "language_info": {
   "codemirror_mode": {
    "name": "ipython",
    "version": 3
   },
   "file_extension": ".py",
   "mimetype": "text/x-python",
   "name": "python",
   "nbconvert_exporter": "python",
   "pygments_lexer": "ipython3",
   "version": "3.8.13"
  }
 },
 "nbformat": 4,
 "nbformat_minor": 5
}
